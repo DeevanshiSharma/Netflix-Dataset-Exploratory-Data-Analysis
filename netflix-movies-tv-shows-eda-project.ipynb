{
 "cells": [
  {
   "cell_type": "code",
   "execution_count": 1,
   "id": "9f94cd6e",
   "metadata": {
    "_cell_guid": "b1076dfc-b9ad-4769-8c92-a6c4dae69d19",
    "_uuid": "8f2839f25d086af736a60e9eeb907d3b93b6e0e5",
    "execution": {
     "iopub.execute_input": "2022-07-24T18:20:03.536153Z",
     "iopub.status.busy": "2022-07-24T18:20:03.535636Z",
     "iopub.status.idle": "2022-07-24T18:20:04.583390Z",
     "shell.execute_reply": "2022-07-24T18:20:04.582253Z"
    },
    "papermill": {
     "duration": 1.062864,
     "end_time": "2022-07-24T18:20:04.586663",
     "exception": false,
     "start_time": "2022-07-24T18:20:03.523799",
     "status": "completed"
    },
    "tags": []
   },
   "outputs": [],
   "source": [
    "import numpy as np \n",
    "import pandas as pd \n",
    "import seaborn as sns\n",
    "from matplotlib import pyplot as plt"
   ]
  },
  {
   "cell_type": "code",
   "execution_count": 2,
   "id": "637bb9d0",
   "metadata": {
    "execution": {
     "iopub.execute_input": "2022-07-24T18:20:04.606750Z",
     "iopub.status.busy": "2022-07-24T18:20:04.606344Z",
     "iopub.status.idle": "2022-07-24T18:20:04.762351Z",
     "shell.execute_reply": "2022-07-24T18:20:04.761205Z"
    },
    "papermill": {
     "duration": 0.168804,
     "end_time": "2022-07-24T18:20:04.764892",
     "exception": false,
     "start_time": "2022-07-24T18:20:04.596088",
     "status": "completed"
    },
    "tags": []
   },
   "outputs": [],
   "source": [
    "netflix = pd.read_csv(\"../input/netflix-shows/netflix_titles.csv\")"
   ]
  },
  {
   "cell_type": "code",
   "execution_count": 3,
   "id": "66cef82f",
   "metadata": {
    "execution": {
     "iopub.execute_input": "2022-07-24T18:20:04.785426Z",
     "iopub.status.busy": "2022-07-24T18:20:04.785045Z",
     "iopub.status.idle": "2022-07-24T18:20:04.823778Z",
     "shell.execute_reply": "2022-07-24T18:20:04.822962Z"
    },
    "papermill": {
     "duration": 0.05255,
     "end_time": "2022-07-24T18:20:04.826905",
     "exception": false,
     "start_time": "2022-07-24T18:20:04.774355",
     "status": "completed"
    },
    "tags": []
   },
   "outputs": [
    {
     "name": "stdout",
     "output_type": "stream",
     "text": [
      "<class 'pandas.core.frame.DataFrame'>\n",
      "RangeIndex: 8807 entries, 0 to 8806\n",
      "Data columns (total 12 columns):\n",
      " #   Column        Non-Null Count  Dtype \n",
      "---  ------        --------------  ----- \n",
      " 0   show_id       8807 non-null   object\n",
      " 1   type          8807 non-null   object\n",
      " 2   title         8807 non-null   object\n",
      " 3   director      6173 non-null   object\n",
      " 4   cast          7982 non-null   object\n",
      " 5   country       7976 non-null   object\n",
      " 6   date_added    8797 non-null   object\n",
      " 7   release_year  8807 non-null   int64 \n",
      " 8   rating        8803 non-null   object\n",
      " 9   duration      8804 non-null   object\n",
      " 10  listed_in     8807 non-null   object\n",
      " 11  description   8807 non-null   object\n",
      "dtypes: int64(1), object(11)\n",
      "memory usage: 825.8+ KB\n"
     ]
    }
   ],
   "source": [
    "netflix.info()"
   ]
  },
  {
   "cell_type": "code",
   "execution_count": 4,
   "id": "e0dce2c1",
   "metadata": {
    "execution": {
     "iopub.execute_input": "2022-07-24T18:20:04.851284Z",
     "iopub.status.busy": "2022-07-24T18:20:04.850504Z",
     "iopub.status.idle": "2022-07-24T18:20:04.877543Z",
     "shell.execute_reply": "2022-07-24T18:20:04.876278Z"
    },
    "papermill": {
     "duration": 0.045828,
     "end_time": "2022-07-24T18:20:04.883762",
     "exception": false,
     "start_time": "2022-07-24T18:20:04.837934",
     "status": "completed"
    },
    "tags": []
   },
   "outputs": [
    {
     "data": {
      "text/html": [
       "<div>\n",
       "<style scoped>\n",
       "    .dataframe tbody tr th:only-of-type {\n",
       "        vertical-align: middle;\n",
       "    }\n",
       "\n",
       "    .dataframe tbody tr th {\n",
       "        vertical-align: top;\n",
       "    }\n",
       "\n",
       "    .dataframe thead th {\n",
       "        text-align: right;\n",
       "    }\n",
       "</style>\n",
       "<table border=\"1\" class=\"dataframe\">\n",
       "  <thead>\n",
       "    <tr style=\"text-align: right;\">\n",
       "      <th></th>\n",
       "      <th>release_year</th>\n",
       "    </tr>\n",
       "  </thead>\n",
       "  <tbody>\n",
       "    <tr>\n",
       "      <th>count</th>\n",
       "      <td>8807.000000</td>\n",
       "    </tr>\n",
       "    <tr>\n",
       "      <th>mean</th>\n",
       "      <td>2014.180198</td>\n",
       "    </tr>\n",
       "    <tr>\n",
       "      <th>std</th>\n",
       "      <td>8.819312</td>\n",
       "    </tr>\n",
       "    <tr>\n",
       "      <th>min</th>\n",
       "      <td>1925.000000</td>\n",
       "    </tr>\n",
       "    <tr>\n",
       "      <th>25%</th>\n",
       "      <td>2013.000000</td>\n",
       "    </tr>\n",
       "    <tr>\n",
       "      <th>50%</th>\n",
       "      <td>2017.000000</td>\n",
       "    </tr>\n",
       "    <tr>\n",
       "      <th>75%</th>\n",
       "      <td>2019.000000</td>\n",
       "    </tr>\n",
       "    <tr>\n",
       "      <th>max</th>\n",
       "      <td>2021.000000</td>\n",
       "    </tr>\n",
       "  </tbody>\n",
       "</table>\n",
       "</div>"
      ],
      "text/plain": [
       "       release_year\n",
       "count   8807.000000\n",
       "mean    2014.180198\n",
       "std        8.819312\n",
       "min     1925.000000\n",
       "25%     2013.000000\n",
       "50%     2017.000000\n",
       "75%     2019.000000\n",
       "max     2021.000000"
      ]
     },
     "execution_count": 4,
     "metadata": {},
     "output_type": "execute_result"
    }
   ],
   "source": [
    "netflix.describe()"
   ]
  },
  {
   "cell_type": "code",
   "execution_count": 5,
   "id": "30ad6ce2",
   "metadata": {
    "execution": {
     "iopub.execute_input": "2022-07-24T18:20:04.911290Z",
     "iopub.status.busy": "2022-07-24T18:20:04.910600Z",
     "iopub.status.idle": "2022-07-24T18:20:04.929912Z",
     "shell.execute_reply": "2022-07-24T18:20:04.929144Z"
    },
    "papermill": {
     "duration": 0.034534,
     "end_time": "2022-07-24T18:20:04.931928",
     "exception": false,
     "start_time": "2022-07-24T18:20:04.897394",
     "status": "completed"
    },
    "tags": []
   },
   "outputs": [
    {
     "data": {
      "text/plain": [
       "show_id            0\n",
       "type               0\n",
       "title              0\n",
       "director        2634\n",
       "cast             825\n",
       "country          831\n",
       "date_added        10\n",
       "release_year       0\n",
       "rating             4\n",
       "duration           3\n",
       "listed_in          0\n",
       "description        0\n",
       "dtype: int64"
      ]
     },
     "execution_count": 5,
     "metadata": {},
     "output_type": "execute_result"
    }
   ],
   "source": [
    "netflix.isnull().sum()"
   ]
  },
  {
   "cell_type": "code",
   "execution_count": 6,
   "id": "d95f4180",
   "metadata": {
    "execution": {
     "iopub.execute_input": "2022-07-24T18:20:04.952617Z",
     "iopub.status.busy": "2022-07-24T18:20:04.951634Z",
     "iopub.status.idle": "2022-07-24T18:20:04.962745Z",
     "shell.execute_reply": "2022-07-24T18:20:04.961736Z"
    },
    "papermill": {
     "duration": 0.023506,
     "end_time": "2022-07-24T18:20:04.964794",
     "exception": false,
     "start_time": "2022-07-24T18:20:04.941288",
     "status": "completed"
    },
    "tags": []
   },
   "outputs": [
    {
     "data": {
      "text/plain": [
       "0       Kirsten Johnson\n",
       "1               unknown\n",
       "2       Julien Leclercq\n",
       "3               unknown\n",
       "4               unknown\n",
       "             ...       \n",
       "8802      David Fincher\n",
       "8803            unknown\n",
       "8804    Ruben Fleischer\n",
       "8805       Peter Hewitt\n",
       "8806        Mozez Singh\n",
       "Name: director, Length: 8807, dtype: object"
      ]
     },
     "execution_count": 6,
     "metadata": {},
     "output_type": "execute_result"
    }
   ],
   "source": [
    "netflix.director.fillna(value=\"unknown\", inplace = True)\n",
    "netflix.director"
   ]
  },
  {
   "cell_type": "code",
   "execution_count": 7,
   "id": "6e4566c2",
   "metadata": {
    "execution": {
     "iopub.execute_input": "2022-07-24T18:20:04.986260Z",
     "iopub.status.busy": "2022-07-24T18:20:04.985277Z",
     "iopub.status.idle": "2022-07-24T18:20:04.995294Z",
     "shell.execute_reply": "2022-07-24T18:20:04.994272Z"
    },
    "papermill": {
     "duration": 0.023115,
     "end_time": "2022-07-24T18:20:04.997382",
     "exception": false,
     "start_time": "2022-07-24T18:20:04.974267",
     "status": "completed"
    },
    "tags": []
   },
   "outputs": [
    {
     "data": {
      "text/plain": [
       "0                                                 unknown\n",
       "1       Ama Qamata, Khosi Ngema, Gail Mabalane, Thaban...\n",
       "2       Sami Bouajila, Tracy Gotoas, Samuel Jouy, Nabi...\n",
       "3                                                 unknown\n",
       "4       Mayur More, Jitendra Kumar, Ranjan Raj, Alam K...\n",
       "                              ...                        \n",
       "8802    Mark Ruffalo, Jake Gyllenhaal, Robert Downey J...\n",
       "8803                                              unknown\n",
       "8804    Jesse Eisenberg, Woody Harrelson, Emma Stone, ...\n",
       "8805    Tim Allen, Courteney Cox, Chevy Chase, Kate Ma...\n",
       "8806    Vicky Kaushal, Sarah-Jane Dias, Raaghav Chanan...\n",
       "Name: cast, Length: 8807, dtype: object"
      ]
     },
     "execution_count": 7,
     "metadata": {},
     "output_type": "execute_result"
    }
   ],
   "source": [
    "netflix.cast.fillna(value = \"unknown\", inplace = True)\n",
    "netflix.cast"
   ]
  },
  {
   "cell_type": "code",
   "execution_count": 8,
   "id": "ef5f77c6",
   "metadata": {
    "execution": {
     "iopub.execute_input": "2022-07-24T18:20:05.019915Z",
     "iopub.status.busy": "2022-07-24T18:20:05.018808Z",
     "iopub.status.idle": "2022-07-24T18:20:05.028097Z",
     "shell.execute_reply": "2022-07-24T18:20:05.027371Z"
    },
    "papermill": {
     "duration": 0.02216,
     "end_time": "2022-07-24T18:20:05.029998",
     "exception": false,
     "start_time": "2022-07-24T18:20:05.007838",
     "status": "completed"
    },
    "tags": []
   },
   "outputs": [
    {
     "data": {
      "text/plain": [
       "0       United States\n",
       "1        South Africa\n",
       "2             unknown\n",
       "3             unknown\n",
       "4               India\n",
       "            ...      \n",
       "8802    United States\n",
       "8803          unknown\n",
       "8804    United States\n",
       "8805    United States\n",
       "8806            India\n",
       "Name: country, Length: 8807, dtype: object"
      ]
     },
     "execution_count": 8,
     "metadata": {},
     "output_type": "execute_result"
    }
   ],
   "source": [
    "netflix.country.fillna(value=\"unknown\", inplace =True)\n",
    "netflix.country"
   ]
  },
  {
   "cell_type": "code",
   "execution_count": 9,
   "id": "fb666f95",
   "metadata": {
    "execution": {
     "iopub.execute_input": "2022-07-24T18:20:05.051783Z",
     "iopub.status.busy": "2022-07-24T18:20:05.050708Z",
     "iopub.status.idle": "2022-07-24T18:20:05.060512Z",
     "shell.execute_reply": "2022-07-24T18:20:05.059767Z"
    },
    "papermill": {
     "duration": 0.022919,
     "end_time": "2022-07-24T18:20:05.062531",
     "exception": false,
     "start_time": "2022-07-24T18:20:05.039612",
     "status": "completed"
    },
    "tags": []
   },
   "outputs": [
    {
     "data": {
      "text/plain": [
       "0       September 25, 2021\n",
       "1       September 24, 2021\n",
       "2       September 24, 2021\n",
       "3       September 24, 2021\n",
       "4       September 24, 2021\n",
       "               ...        \n",
       "8802     November 20, 2019\n",
       "8803          July 1, 2019\n",
       "8804      November 1, 2019\n",
       "8805      January 11, 2020\n",
       "8806         March 2, 2019\n",
       "Name: date_added, Length: 8807, dtype: object"
      ]
     },
     "execution_count": 9,
     "metadata": {},
     "output_type": "execute_result"
    }
   ],
   "source": [
    "netflix.date_added.fillna(value = \"unknown\", inplace = True)\n",
    "netflix.date_added"
   ]
  },
  {
   "cell_type": "code",
   "execution_count": 10,
   "id": "9424e4cb",
   "metadata": {
    "execution": {
     "iopub.execute_input": "2022-07-24T18:20:05.084190Z",
     "iopub.status.busy": "2022-07-24T18:20:05.083519Z",
     "iopub.status.idle": "2022-07-24T18:20:05.101920Z",
     "shell.execute_reply": "2022-07-24T18:20:05.101170Z"
    },
    "papermill": {
     "duration": 0.03151,
     "end_time": "2022-07-24T18:20:05.103934",
     "exception": false,
     "start_time": "2022-07-24T18:20:05.072424",
     "status": "completed"
    },
    "tags": []
   },
   "outputs": [
    {
     "data": {
      "text/plain": [
       "show_id         0\n",
       "type            0\n",
       "title           0\n",
       "director        0\n",
       "cast            0\n",
       "country         0\n",
       "date_added      0\n",
       "release_year    0\n",
       "rating          4\n",
       "duration        3\n",
       "listed_in       0\n",
       "description     0\n",
       "dtype: int64"
      ]
     },
     "execution_count": 10,
     "metadata": {},
     "output_type": "execute_result"
    }
   ],
   "source": [
    "netflix.isnull().sum()"
   ]
  },
  {
   "cell_type": "code",
   "execution_count": 11,
   "id": "6ee74049",
   "metadata": {
    "execution": {
     "iopub.execute_input": "2022-07-24T18:20:05.125997Z",
     "iopub.status.busy": "2022-07-24T18:20:05.125315Z",
     "iopub.status.idle": "2022-07-24T18:20:05.145702Z",
     "shell.execute_reply": "2022-07-24T18:20:05.144880Z"
    },
    "papermill": {
     "duration": 0.033928,
     "end_time": "2022-07-24T18:20:05.148076",
     "exception": false,
     "start_time": "2022-07-24T18:20:05.114148",
     "status": "completed"
    },
    "tags": []
   },
   "outputs": [],
   "source": [
    "netflix.dropna(inplace = True)"
   ]
  },
  {
   "cell_type": "code",
   "execution_count": 12,
   "id": "c0075f23",
   "metadata": {
    "execution": {
     "iopub.execute_input": "2022-07-24T18:20:05.170199Z",
     "iopub.status.busy": "2022-07-24T18:20:05.169507Z",
     "iopub.status.idle": "2022-07-24T18:20:05.188488Z",
     "shell.execute_reply": "2022-07-24T18:20:05.187518Z"
    },
    "papermill": {
     "duration": 0.032743,
     "end_time": "2022-07-24T18:20:05.190867",
     "exception": false,
     "start_time": "2022-07-24T18:20:05.158124",
     "status": "completed"
    },
    "tags": []
   },
   "outputs": [
    {
     "data": {
      "text/plain": [
       "show_id         0\n",
       "type            0\n",
       "title           0\n",
       "director        0\n",
       "cast            0\n",
       "country         0\n",
       "date_added      0\n",
       "release_year    0\n",
       "rating          0\n",
       "duration        0\n",
       "listed_in       0\n",
       "description     0\n",
       "dtype: int64"
      ]
     },
     "execution_count": 12,
     "metadata": {},
     "output_type": "execute_result"
    }
   ],
   "source": [
    "netflix.isnull().sum()"
   ]
  },
  {
   "cell_type": "markdown",
   "id": "b6cd9e24",
   "metadata": {
    "papermill": {
     "duration": 0.009757,
     "end_time": "2022-07-24T18:20:05.210702",
     "exception": false,
     "start_time": "2022-07-24T18:20:05.200945",
     "status": "completed"
    },
    "tags": []
   },
   "source": [
    "# Type"
   ]
  },
  {
   "cell_type": "code",
   "execution_count": 13,
   "id": "2e75231c",
   "metadata": {
    "execution": {
     "iopub.execute_input": "2022-07-24T18:20:05.232765Z",
     "iopub.status.busy": "2022-07-24T18:20:05.232082Z",
     "iopub.status.idle": "2022-07-24T18:20:05.239887Z",
     "shell.execute_reply": "2022-07-24T18:20:05.239133Z"
    },
    "papermill": {
     "duration": 0.021078,
     "end_time": "2022-07-24T18:20:05.241907",
     "exception": false,
     "start_time": "2022-07-24T18:20:05.220829",
     "status": "completed"
    },
    "tags": []
   },
   "outputs": [
    {
     "data": {
      "text/plain": [
       "Index(['Movie', 'TV Show'], dtype='object')"
      ]
     },
     "execution_count": 13,
     "metadata": {},
     "output_type": "execute_result"
    }
   ],
   "source": [
    "netflix.type.value_counts().index"
   ]
  },
  {
   "cell_type": "code",
   "execution_count": 14,
   "id": "99ba68af",
   "metadata": {
    "execution": {
     "iopub.execute_input": "2022-07-24T18:20:05.264630Z",
     "iopub.status.busy": "2022-07-24T18:20:05.263956Z",
     "iopub.status.idle": "2022-07-24T18:20:05.270773Z",
     "shell.execute_reply": "2022-07-24T18:20:05.270024Z"
    },
    "papermill": {
     "duration": 0.020457,
     "end_time": "2022-07-24T18:20:05.272689",
     "exception": false,
     "start_time": "2022-07-24T18:20:05.252232",
     "status": "completed"
    },
    "tags": []
   },
   "outputs": [
    {
     "data": {
      "text/plain": [
       "<bound method Series.unique of 0         Movie\n",
       "1       TV Show\n",
       "2       TV Show\n",
       "3       TV Show\n",
       "4       TV Show\n",
       "         ...   \n",
       "8802      Movie\n",
       "8803    TV Show\n",
       "8804      Movie\n",
       "8805      Movie\n",
       "8806      Movie\n",
       "Name: type, Length: 8800, dtype: object>"
      ]
     },
     "execution_count": 14,
     "metadata": {},
     "output_type": "execute_result"
    }
   ],
   "source": [
    "netflix.type.unique"
   ]
  },
  {
   "cell_type": "code",
   "execution_count": 15,
   "id": "9fb8ef50",
   "metadata": {
    "execution": {
     "iopub.execute_input": "2022-07-24T18:20:05.295482Z",
     "iopub.status.busy": "2022-07-24T18:20:05.294817Z",
     "iopub.status.idle": "2022-07-24T18:20:05.302787Z",
     "shell.execute_reply": "2022-07-24T18:20:05.302033Z"
    },
    "papermill": {
     "duration": 0.021722,
     "end_time": "2022-07-24T18:20:05.304794",
     "exception": false,
     "start_time": "2022-07-24T18:20:05.283072",
     "status": "completed"
    },
    "tags": []
   },
   "outputs": [
    {
     "data": {
      "text/plain": [
       "Movie      6126\n",
       "TV Show    2674\n",
       "Name: type, dtype: int64"
      ]
     },
     "execution_count": 15,
     "metadata": {},
     "output_type": "execute_result"
    }
   ],
   "source": [
    "netflix.type.value_counts()"
   ]
  },
  {
   "cell_type": "code",
   "execution_count": 16,
   "id": "6dbf853a",
   "metadata": {
    "execution": {
     "iopub.execute_input": "2022-07-24T18:20:05.327928Z",
     "iopub.status.busy": "2022-07-24T18:20:05.327238Z",
     "iopub.status.idle": "2022-07-24T18:20:05.510020Z",
     "shell.execute_reply": "2022-07-24T18:20:05.508722Z"
    },
    "papermill": {
     "duration": 0.197466,
     "end_time": "2022-07-24T18:20:05.512750",
     "exception": false,
     "start_time": "2022-07-24T18:20:05.315284",
     "status": "completed"
    },
    "tags": []
   },
   "outputs": [
    {
     "data": {
      "image/png": "[encoded data removed]",
      "text/plain": [
       "<Figure size 720x576 with 1 Axes>"
      ]
     },
     "metadata": {},
     "output_type": "display_data"
    }
   ],
   "source": [
    "#visualizing the type\n",
    "plt.figure(figsize=(10,8))\n",
    "\n",
    "plt.pie(netflix.type.value_counts(), \n",
    "        labels = netflix.type.value_counts().index, \n",
    "        labeldistance = None, autopct=\"%.2f\", \n",
    "        textprops = {'fontsize': 16,}, \n",
    "        colors = ['lightsteelblue','lightsalmon' ] )\n",
    "plt.legend()\n",
    "plt.show()"
   ]
  },
  {
   "cell_type": "markdown",
   "id": "ee0b687a",
   "metadata": {
    "papermill": {
     "duration": 0.010849,
     "end_time": "2022-07-24T18:20:05.534925",
     "exception": false,
     "start_time": "2022-07-24T18:20:05.524076",
     "status": "completed"
    },
    "tags": []
   },
   "source": [
    "Result: The number of movie content on netflix in 2.33 times the TV Shows."
   ]
  },
  {
   "cell_type": "markdown",
   "id": "7f228853",
   "metadata": {
    "papermill": {
     "duration": 0.010858,
     "end_time": "2022-07-24T18:20:05.557074",
     "exception": false,
     "start_time": "2022-07-24T18:20:05.546216",
     "status": "completed"
    },
    "tags": []
   },
   "source": [
    "# Release Year"
   ]
  },
  {
   "cell_type": "code",
   "execution_count": 17,
   "id": "5cd085a6",
   "metadata": {
    "execution": {
     "iopub.execute_input": "2022-07-24T18:20:05.580886Z",
     "iopub.status.busy": "2022-07-24T18:20:05.580525Z",
     "iopub.status.idle": "2022-07-24T18:20:05.596201Z",
     "shell.execute_reply": "2022-07-24T18:20:05.595381Z"
    },
    "papermill": {
     "duration": 0.029958,
     "end_time": "2022-07-24T18:20:05.598172",
     "exception": false,
     "start_time": "2022-07-24T18:20:05.568214",
     "status": "completed"
    },
    "tags": []
   },
   "outputs": [
    {
     "data": {
      "text/html": [
       "<div>\n",
       "<style scoped>\n",
       "    .dataframe tbody tr th:only-of-type {\n",
       "        vertical-align: middle;\n",
       "    }\n",
       "\n",
       "    .dataframe tbody tr th {\n",
       "        vertical-align: top;\n",
       "    }\n",
       "\n",
       "    .dataframe thead th {\n",
       "        text-align: right;\n",
       "    }\n",
       "</style>\n",
       "<table border=\"1\" class=\"dataframe\">\n",
       "  <thead>\n",
       "    <tr style=\"text-align: right;\">\n",
       "      <th></th>\n",
       "      <th>type</th>\n",
       "      <th>Release Year</th>\n",
       "    </tr>\n",
       "  </thead>\n",
       "  <tbody>\n",
       "    <tr>\n",
       "      <th>0</th>\n",
       "      <td>Movie</td>\n",
       "      <td>2020</td>\n",
       "    </tr>\n",
       "    <tr>\n",
       "      <th>1</th>\n",
       "      <td>TV Show</td>\n",
       "      <td>2021</td>\n",
       "    </tr>\n",
       "    <tr>\n",
       "      <th>2</th>\n",
       "      <td>TV Show</td>\n",
       "      <td>2021</td>\n",
       "    </tr>\n",
       "    <tr>\n",
       "      <th>3</th>\n",
       "      <td>TV Show</td>\n",
       "      <td>2021</td>\n",
       "    </tr>\n",
       "    <tr>\n",
       "      <th>4</th>\n",
       "      <td>TV Show</td>\n",
       "      <td>2021</td>\n",
       "    </tr>\n",
       "    <tr>\n",
       "      <th>...</th>\n",
       "      <td>...</td>\n",
       "      <td>...</td>\n",
       "    </tr>\n",
       "    <tr>\n",
       "      <th>8798</th>\n",
       "      <td>Movie</td>\n",
       "      <td>2014</td>\n",
       "    </tr>\n",
       "    <tr>\n",
       "      <th>8800</th>\n",
       "      <td>TV Show</td>\n",
       "      <td>2012</td>\n",
       "    </tr>\n",
       "    <tr>\n",
       "      <th>8801</th>\n",
       "      <td>Movie</td>\n",
       "      <td>2015</td>\n",
       "    </tr>\n",
       "    <tr>\n",
       "      <th>8803</th>\n",
       "      <td>TV Show</td>\n",
       "      <td>2018</td>\n",
       "    </tr>\n",
       "    <tr>\n",
       "      <th>8806</th>\n",
       "      <td>Movie</td>\n",
       "      <td>2015</td>\n",
       "    </tr>\n",
       "  </tbody>\n",
       "</table>\n",
       "<p>7465 rows × 2 columns</p>\n",
       "</div>"
      ],
      "text/plain": [
       "         type  Release Year\n",
       "0       Movie          2020\n",
       "1     TV Show          2021\n",
       "2     TV Show          2021\n",
       "3     TV Show          2021\n",
       "4     TV Show          2021\n",
       "...       ...           ...\n",
       "8798    Movie          2014\n",
       "8800  TV Show          2012\n",
       "8801    Movie          2015\n",
       "8803  TV Show          2018\n",
       "8806    Movie          2015\n",
       "\n",
       "[7465 rows x 2 columns]"
      ]
     },
     "execution_count": 17,
     "metadata": {},
     "output_type": "execute_result"
    }
   ],
   "source": [
    "last_decade = netflix[[\"type\", \"release_year\"]]\n",
    "last_decade = last_decade.rename(columns = {\"release_year\" : \"Release Year\"})\n",
    "last_decade = last_decade[last_decade[\"Release Year\"]>=2010]\n",
    "last_decade"
   ]
  },
  {
   "cell_type": "code",
   "execution_count": 18,
   "id": "8c48a866",
   "metadata": {
    "execution": {
     "iopub.execute_input": "2022-07-24T18:20:05.622224Z",
     "iopub.status.busy": "2022-07-24T18:20:05.621574Z",
     "iopub.status.idle": "2022-07-24T18:20:05.633767Z",
     "shell.execute_reply": "2022-07-24T18:20:05.632736Z"
    },
    "papermill": {
     "duration": 0.026537,
     "end_time": "2022-07-24T18:20:05.635865",
     "exception": false,
     "start_time": "2022-07-24T18:20:05.609328",
     "status": "completed"
    },
    "tags": []
   },
   "outputs": [
    {
     "data": {
      "text/html": [
       "<div>\n",
       "<style scoped>\n",
       "    .dataframe tbody tr th:only-of-type {\n",
       "        vertical-align: middle;\n",
       "    }\n",
       "\n",
       "    .dataframe tbody tr th {\n",
       "        vertical-align: top;\n",
       "    }\n",
       "\n",
       "    .dataframe thead th {\n",
       "        text-align: right;\n",
       "    }\n",
       "</style>\n",
       "<table border=\"1\" class=\"dataframe\">\n",
       "  <thead>\n",
       "    <tr style=\"text-align: right;\">\n",
       "      <th></th>\n",
       "      <th>Release Year</th>\n",
       "      <th>type</th>\n",
       "    </tr>\n",
       "  </thead>\n",
       "  <tbody>\n",
       "    <tr>\n",
       "      <th>0</th>\n",
       "      <td>2010</td>\n",
       "      <td>193</td>\n",
       "    </tr>\n",
       "    <tr>\n",
       "      <th>1</th>\n",
       "      <td>2011</td>\n",
       "      <td>185</td>\n",
       "    </tr>\n",
       "    <tr>\n",
       "      <th>2</th>\n",
       "      <td>2012</td>\n",
       "      <td>237</td>\n",
       "    </tr>\n",
       "    <tr>\n",
       "      <th>3</th>\n",
       "      <td>2013</td>\n",
       "      <td>287</td>\n",
       "    </tr>\n",
       "    <tr>\n",
       "      <th>4</th>\n",
       "      <td>2014</td>\n",
       "      <td>352</td>\n",
       "    </tr>\n",
       "    <tr>\n",
       "      <th>5</th>\n",
       "      <td>2015</td>\n",
       "      <td>557</td>\n",
       "    </tr>\n",
       "    <tr>\n",
       "      <th>6</th>\n",
       "      <td>2016</td>\n",
       "      <td>902</td>\n",
       "    </tr>\n",
       "    <tr>\n",
       "      <th>7</th>\n",
       "      <td>2017</td>\n",
       "      <td>1030</td>\n",
       "    </tr>\n",
       "    <tr>\n",
       "      <th>8</th>\n",
       "      <td>2018</td>\n",
       "      <td>1147</td>\n",
       "    </tr>\n",
       "    <tr>\n",
       "      <th>9</th>\n",
       "      <td>2019</td>\n",
       "      <td>1030</td>\n",
       "    </tr>\n",
       "    <tr>\n",
       "      <th>10</th>\n",
       "      <td>2020</td>\n",
       "      <td>953</td>\n",
       "    </tr>\n",
       "    <tr>\n",
       "      <th>11</th>\n",
       "      <td>2021</td>\n",
       "      <td>592</td>\n",
       "    </tr>\n",
       "  </tbody>\n",
       "</table>\n",
       "</div>"
      ],
      "text/plain": [
       "    Release Year  type\n",
       "0           2010   193\n",
       "1           2011   185\n",
       "2           2012   237\n",
       "3           2013   287\n",
       "4           2014   352\n",
       "5           2015   557\n",
       "6           2016   902\n",
       "7           2017  1030\n",
       "8           2018  1147\n",
       "9           2019  1030\n",
       "10          2020   953\n",
       "11          2021   592"
      ]
     },
     "execution_count": 18,
     "metadata": {},
     "output_type": "execute_result"
    }
   ],
   "source": [
    "last_decade_df = last_decade.groupby(\"Release Year\")[\"type\"].size().reset_index()\n",
    "last_decade_df = pd.DataFrame(last_decade_df)\n",
    "last_decade_df"
   ]
  },
  {
   "cell_type": "code",
   "execution_count": 19,
   "id": "367ae21d",
   "metadata": {
    "execution": {
     "iopub.execute_input": "2022-07-24T18:20:05.661166Z",
     "iopub.status.busy": "2022-07-24T18:20:05.660414Z",
     "iopub.status.idle": "2022-07-24T18:20:05.665924Z",
     "shell.execute_reply": "2022-07-24T18:20:05.665066Z"
    },
    "papermill": {
     "duration": 0.020755,
     "end_time": "2022-07-24T18:20:05.668180",
     "exception": false,
     "start_time": "2022-07-24T18:20:05.647425",
     "status": "completed"
    },
    "tags": []
   },
   "outputs": [],
   "source": [
    "last_decade_df.rename(columns = {\"type\": \"Total Content\"}, inplace = True)"
   ]
  },
  {
   "cell_type": "code",
   "execution_count": 20,
   "id": "09bbec81",
   "metadata": {
    "execution": {
     "iopub.execute_input": "2022-07-24T18:20:05.692887Z",
     "iopub.status.busy": "2022-07-24T18:20:05.692213Z",
     "iopub.status.idle": "2022-07-24T18:20:05.704510Z",
     "shell.execute_reply": "2022-07-24T18:20:05.703691Z"
    },
    "papermill": {
     "duration": 0.026888,
     "end_time": "2022-07-24T18:20:05.706461",
     "exception": false,
     "start_time": "2022-07-24T18:20:05.679573",
     "status": "completed"
    },
    "tags": []
   },
   "outputs": [
    {
     "data": {
      "text/plain": [
       "Release Year  type   \n",
       "2010          Movie      153\n",
       "              TV Show     40\n",
       "2011          Movie      145\n",
       "              TV Show     40\n",
       "2012          Movie      173\n",
       "              TV Show     64\n",
       "2013          Movie      225\n",
       "              TV Show     62\n",
       "2014          Movie      264\n",
       "              TV Show     88\n",
       "2015          Movie      396\n",
       "              TV Show    161\n",
       "2016          Movie      658\n",
       "              TV Show    244\n",
       "2017          Movie      765\n",
       "              TV Show    265\n",
       "2018          Movie      767\n",
       "              TV Show    380\n",
       "2019          Movie      633\n",
       "              TV Show    397\n",
       "2020          Movie      517\n",
       "              TV Show    436\n",
       "2021          TV Show    315\n",
       "              Movie      277\n",
       "Name: type, dtype: int64"
      ]
     },
     "execution_count": 20,
     "metadata": {},
     "output_type": "execute_result"
    }
   ],
   "source": [
    "last_decade.groupby(\"Release Year\")[\"type\"].value_counts()"
   ]
  },
  {
   "cell_type": "code",
   "execution_count": 21,
   "id": "d9681bdc",
   "metadata": {
    "execution": {
     "iopub.execute_input": "2022-07-24T18:20:05.731955Z",
     "iopub.status.busy": "2022-07-24T18:20:05.731326Z",
     "iopub.status.idle": "2022-07-24T18:20:06.005244Z",
     "shell.execute_reply": "2022-07-24T18:20:06.004059Z"
    },
    "papermill": {
     "duration": 0.289401,
     "end_time": "2022-07-24T18:20:06.007621",
     "exception": false,
     "start_time": "2022-07-24T18:20:05.718220",
     "status": "completed"
    },
    "tags": []
   },
   "outputs": [
    {
     "data": {
      "text/plain": [
       "''"
      ]
     },
     "execution_count": 21,
     "metadata": {},
     "output_type": "execute_result"
    },
    {
     "data": {
      "image/png": "[encoded data removed]",
      "text/plain": [
       "<Figure size 720x432 with 1 Axes>"
      ]
     },
     "metadata": {
      "needs_background": "light"
     },
     "output_type": "display_data"
    }
   ],
   "source": [
    "plt.figure(figsize = (10,6))\n",
    "count_plot = sns.countplot(x = \"Release Year\", data = last_decade, hue=\"type\",\n",
    "             palette= \"pastel\")\n",
    "count_plot.set(title = \"Trend of each type of content Released over the years\")\n",
    ";"
   ]
  },
  {
   "cell_type": "code",
   "execution_count": 22,
   "id": "40a9c590",
   "metadata": {
    "execution": {
     "iopub.execute_input": "2022-07-24T18:20:06.034097Z",
     "iopub.status.busy": "2022-07-24T18:20:06.033665Z",
     "iopub.status.idle": "2022-07-24T18:20:06.247412Z",
     "shell.execute_reply": "2022-07-24T18:20:06.246224Z"
    },
    "papermill": {
     "duration": 0.230141,
     "end_time": "2022-07-24T18:20:06.249863",
     "exception": false,
     "start_time": "2022-07-24T18:20:06.019722",
     "status": "completed"
    },
    "tags": []
   },
   "outputs": [
    {
     "data": {
      "image/png": "[encoded data removed]",
      "text/plain": [
       "<Figure size 720x432 with 1 Axes>"
      ]
     },
     "metadata": {
      "needs_background": "light"
     },
     "output_type": "display_data"
    }
   ],
   "source": [
    "plt.figure(figsize = (10,6))\n",
    "plot_total_content= sns.lineplot(x= \"Release Year\", y = \"Total Content\", data = last_decade_df, \n",
    "                                linewidth = 3)\n",
    "plot_total_content.set(xlabel = \"Release Year\", ylabel = \"Total Content\", \n",
    "                      title = \"Trend of content on netflix\")\n",
    "plt.show()"
   ]
  },
  {
   "cell_type": "markdown",
   "id": "3bae409d",
   "metadata": {
    "papermill": {
     "duration": 0.01231,
     "end_time": "2022-07-24T18:20:06.275403",
     "exception": false,
     "start_time": "2022-07-24T18:20:06.263093",
     "status": "completed"
    },
    "tags": []
   },
   "source": [
    "Result: It is seen that most content on netflix was released in year 2018, the amount of content is decreasing since then."
   ]
  },
  {
   "cell_type": "markdown",
   "id": "da1de6ab",
   "metadata": {
    "papermill": {
     "duration": 0.012318,
     "end_time": "2022-07-24T18:20:06.300202",
     "exception": false,
     "start_time": "2022-07-24T18:20:06.287884",
     "status": "completed"
    },
    "tags": []
   },
   "source": [
    "# Countries"
   ]
  },
  {
   "cell_type": "code",
   "execution_count": 23,
   "id": "21a0a79a",
   "metadata": {
    "execution": {
     "iopub.execute_input": "2022-07-24T18:20:06.326869Z",
     "iopub.status.busy": "2022-07-24T18:20:06.326511Z",
     "iopub.status.idle": "2022-07-24T18:20:06.339060Z",
     "shell.execute_reply": "2022-07-24T18:20:06.338008Z"
    },
    "papermill": {
     "duration": 0.028372,
     "end_time": "2022-07-24T18:20:06.341154",
     "exception": false,
     "start_time": "2022-07-24T18:20:06.312782",
     "status": "completed"
    },
    "tags": []
   },
   "outputs": [
    {
     "data": {
      "text/html": [
       "<div>\n",
       "<style scoped>\n",
       "    .dataframe tbody tr th:only-of-type {\n",
       "        vertical-align: middle;\n",
       "    }\n",
       "\n",
       "    .dataframe tbody tr th {\n",
       "        vertical-align: top;\n",
       "    }\n",
       "\n",
       "    .dataframe thead th {\n",
       "        text-align: right;\n",
       "    }\n",
       "</style>\n",
       "<table border=\"1\" class=\"dataframe\">\n",
       "  <thead>\n",
       "    <tr style=\"text-align: right;\">\n",
       "      <th></th>\n",
       "      <th>country</th>\n",
       "    </tr>\n",
       "  </thead>\n",
       "  <tbody>\n",
       "    <tr>\n",
       "      <th>United States</th>\n",
       "      <td>2815</td>\n",
       "    </tr>\n",
       "    <tr>\n",
       "      <th>India</th>\n",
       "      <td>972</td>\n",
       "    </tr>\n",
       "    <tr>\n",
       "      <th>unknown</th>\n",
       "      <td>830</td>\n",
       "    </tr>\n",
       "    <tr>\n",
       "      <th>United Kingdom</th>\n",
       "      <td>419</td>\n",
       "    </tr>\n",
       "    <tr>\n",
       "      <th>Japan</th>\n",
       "      <td>244</td>\n",
       "    </tr>\n",
       "    <tr>\n",
       "      <th>South Korea</th>\n",
       "      <td>199</td>\n",
       "    </tr>\n",
       "    <tr>\n",
       "      <th>Canada</th>\n",
       "      <td>181</td>\n",
       "    </tr>\n",
       "    <tr>\n",
       "      <th>Spain</th>\n",
       "      <td>145</td>\n",
       "    </tr>\n",
       "    <tr>\n",
       "      <th>France</th>\n",
       "      <td>124</td>\n",
       "    </tr>\n",
       "    <tr>\n",
       "      <th>Mexico</th>\n",
       "      <td>110</td>\n",
       "    </tr>\n",
       "  </tbody>\n",
       "</table>\n",
       "</div>"
      ],
      "text/plain": [
       "                country\n",
       "United States      2815\n",
       "India               972\n",
       "unknown             830\n",
       "United Kingdom      419\n",
       "Japan               244\n",
       "South Korea         199\n",
       "Canada              181\n",
       "Spain               145\n",
       "France              124\n",
       "Mexico              110"
      ]
     },
     "execution_count": 23,
     "metadata": {},
     "output_type": "execute_result"
    }
   ],
   "source": [
    "top_10_countries= netflix.country.value_counts().head(10)\n",
    "top_10_countries = pd.DataFrame(top_10_countries)\n",
    "top_10_countries"
   ]
  },
  {
   "cell_type": "code",
   "execution_count": 24,
   "id": "21e21e34",
   "metadata": {
    "execution": {
     "iopub.execute_input": "2022-07-24T18:20:06.369012Z",
     "iopub.status.busy": "2022-07-24T18:20:06.367827Z",
     "iopub.status.idle": "2022-07-24T18:20:06.635673Z",
     "shell.execute_reply": "2022-07-24T18:20:06.634566Z"
    },
    "papermill": {
     "duration": 0.284119,
     "end_time": "2022-07-24T18:20:06.637989",
     "exception": false,
     "start_time": "2022-07-24T18:20:06.353870",
     "status": "completed"
    },
    "tags": []
   },
   "outputs": [
    {
     "data": {
      "image/png": "[encoded data removed]",
      "text/plain": [
       "<Figure size 720x576 with 1 Axes>"
      ]
     },
     "metadata": {
      "needs_background": "light"
     },
     "output_type": "display_data"
    }
   ],
   "source": [
    "plt.figure(figsize = (10,8))\n",
    "country_plot = sns.barplot(x = netflix.country.value_counts()[:10].values, \n",
    "                           y= netflix.country.value_counts()[:10].index,palette = \"pastel\")\n",
    "for i in country_plot.containers:\n",
    "    country_plot.bar_label(i);  "
   ]
  },
  {
   "cell_type": "markdown",
   "id": "ab3d7896",
   "metadata": {
    "papermill": {
     "duration": 0.012853,
     "end_time": "2022-07-24T18:20:06.663994",
     "exception": false,
     "start_time": "2022-07-24T18:20:06.651141",
     "status": "completed"
    },
    "tags": []
   },
   "source": [
    "Result: About 32% of content on Netflix is produced in the USA."
   ]
  },
  {
   "cell_type": "markdown",
   "id": "ecd8f75a",
   "metadata": {
    "papermill": {
     "duration": 0.012978,
     "end_time": "2022-07-24T18:20:06.690308",
     "exception": false,
     "start_time": "2022-07-24T18:20:06.677330",
     "status": "completed"
    },
    "tags": []
   },
   "source": [
    "# Rating"
   ]
  },
  {
   "cell_type": "code",
   "execution_count": 25,
   "id": "44918a6e",
   "metadata": {
    "execution": {
     "iopub.execute_input": "2022-07-24T18:20:06.718461Z",
     "iopub.status.busy": "2022-07-24T18:20:06.718055Z",
     "iopub.status.idle": "2022-07-24T18:20:06.725351Z",
     "shell.execute_reply": "2022-07-24T18:20:06.724621Z"
    },
    "papermill": {
     "duration": 0.023765,
     "end_time": "2022-07-24T18:20:06.727341",
     "exception": false,
     "start_time": "2022-07-24T18:20:06.703576",
     "status": "completed"
    },
    "tags": []
   },
   "outputs": [
    {
     "data": {
      "text/plain": [
       "array(['PG-13', 'TV-MA', 'PG', 'TV-14', 'TV-PG', 'TV-Y', 'TV-Y7', 'R',\n",
       "       'TV-G', 'G', 'NC-17', 'NR', 'TV-Y7-FV', 'UR'], dtype=object)"
      ]
     },
     "execution_count": 25,
     "metadata": {},
     "output_type": "execute_result"
    }
   ],
   "source": [
    "netflix.rating.unique()"
   ]
  },
  {
   "cell_type": "code",
   "execution_count": 26,
   "id": "dbf5ebd7",
   "metadata": {
    "execution": {
     "iopub.execute_input": "2022-07-24T18:20:06.756673Z",
     "iopub.status.busy": "2022-07-24T18:20:06.755637Z",
     "iopub.status.idle": "2022-07-24T18:20:06.784533Z",
     "shell.execute_reply": "2022-07-24T18:20:06.783458Z"
    },
    "papermill": {
     "duration": 0.046205,
     "end_time": "2022-07-24T18:20:06.786931",
     "exception": false,
     "start_time": "2022-07-24T18:20:06.740726",
     "status": "completed"
    },
    "tags": []
   },
   "outputs": [
    {
     "data": {
      "text/html": [
       "<div>\n",
       "<style scoped>\n",
       "    .dataframe tbody tr th:only-of-type {\n",
       "        vertical-align: middle;\n",
       "    }\n",
       "\n",
       "    .dataframe tbody tr th {\n",
       "        vertical-align: top;\n",
       "    }\n",
       "\n",
       "    .dataframe thead th {\n",
       "        text-align: right;\n",
       "    }\n",
       "</style>\n",
       "<table border=\"1\" class=\"dataframe\">\n",
       "  <thead>\n",
       "    <tr style=\"text-align: right;\">\n",
       "      <th></th>\n",
       "      <th>show_id</th>\n",
       "      <th>type</th>\n",
       "      <th>title</th>\n",
       "      <th>director</th>\n",
       "      <th>cast</th>\n",
       "      <th>country</th>\n",
       "      <th>date_added</th>\n",
       "      <th>release_year</th>\n",
       "      <th>rating</th>\n",
       "      <th>duration</th>\n",
       "      <th>listed_in</th>\n",
       "      <th>description</th>\n",
       "    </tr>\n",
       "  </thead>\n",
       "  <tbody>\n",
       "    <tr>\n",
       "      <th>0</th>\n",
       "      <td>s1</td>\n",
       "      <td>Movie</td>\n",
       "      <td>Dick Johnson Is Dead</td>\n",
       "      <td>Kirsten Johnson</td>\n",
       "      <td>unknown</td>\n",
       "      <td>United States</td>\n",
       "      <td>September 25, 2021</td>\n",
       "      <td>2020</td>\n",
       "      <td>Teens</td>\n",
       "      <td>90 min</td>\n",
       "      <td>Documentaries</td>\n",
       "      <td>As her father nears the end of his life, filmm...</td>\n",
       "    </tr>\n",
       "    <tr>\n",
       "      <th>1</th>\n",
       "      <td>s2</td>\n",
       "      <td>TV Show</td>\n",
       "      <td>Blood &amp; Water</td>\n",
       "      <td>unknown</td>\n",
       "      <td>Ama Qamata, Khosi Ngema, Gail Mabalane, Thaban...</td>\n",
       "      <td>South Africa</td>\n",
       "      <td>September 24, 2021</td>\n",
       "      <td>2021</td>\n",
       "      <td>Mature Audience</td>\n",
       "      <td>2 Seasons</td>\n",
       "      <td>International TV Shows, TV Dramas, TV Mysteries</td>\n",
       "      <td>After crossing paths at a party, a Cape Town t...</td>\n",
       "    </tr>\n",
       "    <tr>\n",
       "      <th>2</th>\n",
       "      <td>s3</td>\n",
       "      <td>TV Show</td>\n",
       "      <td>Ganglands</td>\n",
       "      <td>Julien Leclercq</td>\n",
       "      <td>Sami Bouajila, Tracy Gotoas, Samuel Jouy, Nabi...</td>\n",
       "      <td>unknown</td>\n",
       "      <td>September 24, 2021</td>\n",
       "      <td>2021</td>\n",
       "      <td>Mature Audience</td>\n",
       "      <td>1 Season</td>\n",
       "      <td>Crime TV Shows, International TV Shows, TV Act...</td>\n",
       "      <td>To protect his family from a powerful drug lor...</td>\n",
       "    </tr>\n",
       "    <tr>\n",
       "      <th>3</th>\n",
       "      <td>s4</td>\n",
       "      <td>TV Show</td>\n",
       "      <td>Jailbirds New Orleans</td>\n",
       "      <td>unknown</td>\n",
       "      <td>unknown</td>\n",
       "      <td>unknown</td>\n",
       "      <td>September 24, 2021</td>\n",
       "      <td>2021</td>\n",
       "      <td>Mature Audience</td>\n",
       "      <td>1 Season</td>\n",
       "      <td>Docuseries, Reality TV</td>\n",
       "      <td>Feuds, flirtations and toilet talk go down amo...</td>\n",
       "    </tr>\n",
       "    <tr>\n",
       "      <th>4</th>\n",
       "      <td>s5</td>\n",
       "      <td>TV Show</td>\n",
       "      <td>Kota Factory</td>\n",
       "      <td>unknown</td>\n",
       "      <td>Mayur More, Jitendra Kumar, Ranjan Raj, Alam K...</td>\n",
       "      <td>India</td>\n",
       "      <td>September 24, 2021</td>\n",
       "      <td>2021</td>\n",
       "      <td>Mature Audience</td>\n",
       "      <td>2 Seasons</td>\n",
       "      <td>International TV Shows, Romantic TV Shows, TV ...</td>\n",
       "      <td>In a city of coaching centers known to train I...</td>\n",
       "    </tr>\n",
       "  </tbody>\n",
       "</table>\n",
       "</div>"
      ],
      "text/plain": [
       "  show_id     type                  title         director  \\\n",
       "0      s1    Movie   Dick Johnson Is Dead  Kirsten Johnson   \n",
       "1      s2  TV Show          Blood & Water          unknown   \n",
       "2      s3  TV Show              Ganglands  Julien Leclercq   \n",
       "3      s4  TV Show  Jailbirds New Orleans          unknown   \n",
       "4      s5  TV Show           Kota Factory          unknown   \n",
       "\n",
       "                                                cast        country  \\\n",
       "0                                            unknown  United States   \n",
       "1  Ama Qamata, Khosi Ngema, Gail Mabalane, Thaban...   South Africa   \n",
       "2  Sami Bouajila, Tracy Gotoas, Samuel Jouy, Nabi...        unknown   \n",
       "3                                            unknown        unknown   \n",
       "4  Mayur More, Jitendra Kumar, Ranjan Raj, Alam K...          India   \n",
       "\n",
       "           date_added  release_year           rating   duration  \\\n",
       "0  September 25, 2021          2020            Teens     90 min   \n",
       "1  September 24, 2021          2021  Mature Audience  2 Seasons   \n",
       "2  September 24, 2021          2021  Mature Audience   1 Season   \n",
       "3  September 24, 2021          2021  Mature Audience   1 Season   \n",
       "4  September 24, 2021          2021  Mature Audience  2 Seasons   \n",
       "\n",
       "                                           listed_in  \\\n",
       "0                                      Documentaries   \n",
       "1    International TV Shows, TV Dramas, TV Mysteries   \n",
       "2  Crime TV Shows, International TV Shows, TV Act...   \n",
       "3                             Docuseries, Reality TV   \n",
       "4  International TV Shows, Romantic TV Shows, TV ...   \n",
       "\n",
       "                                         description  \n",
       "0  As her father nears the end of his life, filmm...  \n",
       "1  After crossing paths at a party, a Cape Town t...  \n",
       "2  To protect his family from a powerful drug lor...  \n",
       "3  Feuds, flirtations and toilet talk go down amo...  \n",
       "4  In a city of coaching centers known to train I...  "
      ]
     },
     "execution_count": 26,
     "metadata": {},
     "output_type": "execute_result"
    }
   ],
   "source": [
    "new_catgs = {\n",
    "    'TV-PG': 'Parental Guidance',\n",
    "    'TV-MA' : 'Mature Audience',\n",
    "    'TV-Y7-FV': 'Teens',\n",
    "    'TV-Y7': 'Teens',\n",
    "    'TV-14': 'Teens',\n",
    "    'R': 'Mature Audience',\n",
    "    'TV-Y': 'General Audience',\n",
    "    'NR': 'Mature Audience',\n",
    "    'PG-13': 'Teens',\n",
    "    'TV-G': 'General Audience',\n",
    "    'PG': 'Teens',\n",
    "    'G': 'General Audience',\n",
    "    'UR': 'Mature Audience',\n",
    "    'NC-17': 'Mature Audience'\n",
    "}\n",
    "netflix['rating']=netflix['rating'].replace(new_catgs)\n",
    "netflix.head()"
   ]
  },
  {
   "cell_type": "code",
   "execution_count": 27,
   "id": "7fb9f340",
   "metadata": {
    "execution": {
     "iopub.execute_input": "2022-07-24T18:20:06.816846Z",
     "iopub.status.busy": "2022-07-24T18:20:06.816123Z",
     "iopub.status.idle": "2022-07-24T18:20:07.017598Z",
     "shell.execute_reply": "2022-07-24T18:20:07.016459Z"
    },
    "papermill": {
     "duration": 0.218961,
     "end_time": "2022-07-24T18:20:07.020033",
     "exception": false,
     "start_time": "2022-07-24T18:20:06.801072",
     "status": "completed"
    },
    "tags": []
   },
   "outputs": [
    {
     "data": {
      "image/png": "[encoded data removed]",
      "text/plain": [
       "<Figure size 720x432 with 1 Axes>"
      ]
     },
     "metadata": {
      "needs_background": "light"
     },
     "output_type": "display_data"
    }
   ],
   "source": [
    "plt.figure(figsize= (10,6))\n",
    "sns.countplot(x=\"rating\", data=netflix, palette=\"pastel\",)\n",
    "plt.title(\"count of Rating by Movie and Shows\");"
   ]
  },
  {
   "cell_type": "markdown",
   "id": "b8306b0d",
   "metadata": {
    "papermill": {
     "duration": 0.013531,
     "end_time": "2022-07-24T18:20:07.047459",
     "exception": false,
     "start_time": "2022-07-24T18:20:07.033928",
     "status": "completed"
    },
    "tags": []
   },
   "source": [
    "Result: It is seen that Netflix has more content for Mature audience."
   ]
  }
 ],
 "metadata": {
  "kernelspec": {
   "display_name": "Python 3",
   "language": "python",
   "name": "python3"
  },
  "language_info": {
   "codemirror_mode": {
    "name": "ipython",
    "version": 3
   },
   "file_extension": ".py",
   "mimetype": "text/x-python",
   "name": "python",
   "nbconvert_exporter": "python",
   "pygments_lexer": "ipython3",
   "version": "3.7.12"
  },
  "papermill": {
   "default_parameters": {},
   "duration": 13.665822,
   "end_time": "2022-07-24T18:20:07.783953",
   "environment_variables": {},
   "exception": null,
   "input_path": "__notebook__.ipynb",
   "output_path": "__notebook__.ipynb",
   "parameters": {},
   "start_time": "2022-07-24T18:19:54.118131",
   "version": "2.3.4"
  }
 },
 "nbformat": 4,
 "nbformat_minor": 5
}
